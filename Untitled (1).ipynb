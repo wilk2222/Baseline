{
 "cells": [
  {
   "cell_type": "markdown",
   "id": "9c80212c-9f8f-466c-be49-31a19552e0ef",
   "metadata": {
    "tags": []
   },
   "source": [
    "# BASELINE IMPLEMENTATION\n",
    "\n",
    "## Install required libraries using cmd\n",
    "\n",
    "* *pip install numpy*\n",
    "\n",
    "* *pip install pandas*\n",
    "\n",
    "* *pip install sklearn*\n",
    "\n",
    "* *pip install statsmodels*\n",
    "\n",
    "* *pip install matplotlib*"
   ]
  },
  {
   "cell_type": "code",
   "execution_count": 786,
   "id": "d5aa112a-b694-4959-aa69-2e8d7d22c62a",
   "metadata": {},
   "outputs": [],
   "source": [
    "import numpy as np\n",
    "import pandas as pd\n",
    "\n",
    "from sklearn.model_selection import train_test_split\n",
    "from sklearn.preprocessing import StandardScaler\n",
    "from sklearn.linear_model import LinearRegression\n",
    "from sklearn.pipeline import Pipeline\n",
    "from sklearn.svm import SVC\n",
    "from sklearn.metrics import mean_absolute_error\n",
    "from sklearn.metrics import mean_squared_error\n",
    "from sklearn.metrics import accuracy_score\n",
    "\n",
    "from statsmodels.tsa.seasonal import seasonal_decompose\n",
    "from statsmodels.tsa.holtwinters import SimpleExpSmoothing   \n",
    "from statsmodels.tsa.holtwinters import ExponentialSmoothing\n",
    "\n",
    "from matplotlib import pyplot as plt\n",
    "\n",
    "import warnings\n",
    "\n",
    "%matplotlib inline"
   ]
  },
  {
   "cell_type": "code",
   "execution_count": 787,
   "id": "1c09cacd-61b9-4765-b64d-aa1b4bf17ee7",
   "metadata": {
    "tags": []
   },
   "outputs": [
    {
     "name": "stdout",
     "output_type": "stream",
     "text": [
      "(2429, 143)\n"
     ]
    },
    {
     "data": {
      "text/plain": [
       "<AxesSubplot:title={'center':'Bitcoin Value'}, xlabel='time'>"
      ]
     },
     "execution_count": 787,
     "metadata": {},
     "output_type": "execute_result"
    },
    {
     "data": {
      "image/png": "[encoded data removed]",
      "text/plain": [
       "<Figure size 432x288 with 1 Axes>"
      ]
     },
     "metadata": {
      "needs_background": "light"
     },
     "output_type": "display_data"
    }
   ],
   "source": [
    "Bitcoin_df = pd.read_csv('btc-cleaned.csv',index_col='time', parse_dates = True)\n",
    "\n",
    "print(Bitcoin_df.shape)\n",
    "\n",
    "#estimate unknown/hidden data between two known data points\n",
    "Bitcoin_df.interpolate();\n",
    "\n",
    "Bitcoin_df.shape\n",
    "\n",
    "Bitcoin_df['PriceUSD'].plot(title='Bitcoin Value')"
   ]
  },
  {
   "cell_type": "code",
   "execution_count": 788,
   "id": "b6e6c728-a724-46db-8ddf-41daa0c70b9b",
   "metadata": {},
   "outputs": [
    {
     "data": {
      "text/html": [
       "<div>\n",
       "<style scoped>\n",
       "    .dataframe tbody tr th:only-of-type {\n",
       "        vertical-align: middle;\n",
       "    }\n",
       "\n",
       "    .dataframe tbody tr th {\n",
       "        vertical-align: top;\n",
       "    }\n",
       "\n",
       "    .dataframe thead th {\n",
       "        text-align: right;\n",
       "    }\n",
       "</style>\n",
       "<table border=\"1\" class=\"dataframe\">\n",
       "  <thead>\n",
       "    <tr style=\"text-align: right;\">\n",
       "      <th></th>\n",
       "      <th>AdrActCnt</th>\n",
       "      <th>AdrBal1in100KCnt</th>\n",
       "      <th>AdrBal1in100MCnt</th>\n",
       "      <th>AdrBal1in10BCnt</th>\n",
       "      <th>AdrBal1in10KCnt</th>\n",
       "      <th>AdrBal1in10MCnt</th>\n",
       "      <th>AdrBal1in1BCnt</th>\n",
       "      <th>AdrBal1in1KCnt</th>\n",
       "      <th>AdrBal1in1MCnt</th>\n",
       "      <th>AdrBalCnt</th>\n",
       "      <th>...</th>\n",
       "      <th>TxTfrCnt</th>\n",
       "      <th>TxTfrValAdjNtv</th>\n",
       "      <th>TxTfrValAdjUSD</th>\n",
       "      <th>TxTfrValMeanNtv</th>\n",
       "      <th>TxTfrValMeanUSD</th>\n",
       "      <th>TxTfrValMedNtv</th>\n",
       "      <th>TxTfrValMedUSD</th>\n",
       "      <th>VelCur1yr</th>\n",
       "      <th>VtyDayRet180d</th>\n",
       "      <th>VtyDayRet30d</th>\n",
       "    </tr>\n",
       "    <tr>\n",
       "      <th>time</th>\n",
       "      <th></th>\n",
       "      <th></th>\n",
       "      <th></th>\n",
       "      <th></th>\n",
       "      <th></th>\n",
       "      <th></th>\n",
       "      <th></th>\n",
       "      <th></th>\n",
       "      <th></th>\n",
       "      <th></th>\n",
       "      <th></th>\n",
       "      <th></th>\n",
       "      <th></th>\n",
       "      <th></th>\n",
       "      <th></th>\n",
       "      <th></th>\n",
       "      <th></th>\n",
       "      <th></th>\n",
       "      <th></th>\n",
       "      <th></th>\n",
       "      <th></th>\n",
       "    </tr>\n",
       "  </thead>\n",
       "  <tbody>\n",
       "    <tr>\n",
       "      <th>2015-08-09</th>\n",
       "      <td>262571</td>\n",
       "      <td>9252</td>\n",
       "      <td>711943</td>\n",
       "      <td>2403998</td>\n",
       "      <td>887</td>\n",
       "      <td>294373</td>\n",
       "      <td>1422379</td>\n",
       "      <td>67</td>\n",
       "      <td>101875</td>\n",
       "      <td>5438130</td>\n",
       "      <td>...</td>\n",
       "      <td>276720</td>\n",
       "      <td>702282.628908</td>\n",
       "      <td>1.870474e+08</td>\n",
       "      <td>4.201519</td>\n",
       "      <td>1119.041171</td>\n",
       "      <td>0.005625</td>\n",
       "      <td>1.498290</td>\n",
       "      <td>20.710122</td>\n",
       "      <td>0.025668</td>\n",
       "      <td>0.024495</td>\n",
       "    </tr>\n",
       "    <tr>\n",
       "      <th>2015-08-10</th>\n",
       "      <td>292834</td>\n",
       "      <td>9266</td>\n",
       "      <td>711729</td>\n",
       "      <td>2402893</td>\n",
       "      <td>888</td>\n",
       "      <td>294527</td>\n",
       "      <td>1421750</td>\n",
       "      <td>66</td>\n",
       "      <td>102000</td>\n",
       "      <td>5437535</td>\n",
       "      <td>...</td>\n",
       "      <td>304538</td>\n",
       "      <td>282564.753846</td>\n",
       "      <td>7.485955e+07</td>\n",
       "      <td>3.463212</td>\n",
       "      <td>917.504698</td>\n",
       "      <td>0.022000</td>\n",
       "      <td>5.828434</td>\n",
       "      <td>20.755157</td>\n",
       "      <td>0.025667</td>\n",
       "      <td>0.023780</td>\n",
       "    </tr>\n",
       "    <tr>\n",
       "      <th>2015-08-11</th>\n",
       "      <td>271613</td>\n",
       "      <td>9272</td>\n",
       "      <td>712733</td>\n",
       "      <td>2405978</td>\n",
       "      <td>885</td>\n",
       "      <td>294968</td>\n",
       "      <td>1424671</td>\n",
       "      <td>66</td>\n",
       "      <td>102037</td>\n",
       "      <td>5441917</td>\n",
       "      <td>...</td>\n",
       "      <td>280398</td>\n",
       "      <td>333270.418453</td>\n",
       "      <td>9.045684e+07</td>\n",
       "      <td>3.785274</td>\n",
       "      <td>1027.405708</td>\n",
       "      <td>0.049104</td>\n",
       "      <td>13.327852</td>\n",
       "      <td>20.790885</td>\n",
       "      <td>0.025707</td>\n",
       "      <td>0.021451</td>\n",
       "    </tr>\n",
       "    <tr>\n",
       "      <th>2015-08-12</th>\n",
       "      <td>278802</td>\n",
       "      <td>9262</td>\n",
       "      <td>714517</td>\n",
       "      <td>2410983</td>\n",
       "      <td>882</td>\n",
       "      <td>295531</td>\n",
       "      <td>1426195</td>\n",
       "      <td>66</td>\n",
       "      <td>102177</td>\n",
       "      <td>5453120</td>\n",
       "      <td>...</td>\n",
       "      <td>293592</td>\n",
       "      <td>452620.208124</td>\n",
       "      <td>1.213673e+08</td>\n",
       "      <td>4.168242</td>\n",
       "      <td>1117.688449</td>\n",
       "      <td>0.037566</td>\n",
       "      <td>10.073023</td>\n",
       "      <td>20.825459</td>\n",
       "      <td>0.025332</td>\n",
       "      <td>0.018550</td>\n",
       "    </tr>\n",
       "    <tr>\n",
       "      <th>2015-08-13</th>\n",
       "      <td>272849</td>\n",
       "      <td>9278</td>\n",
       "      <td>714951</td>\n",
       "      <td>2413080</td>\n",
       "      <td>885</td>\n",
       "      <td>295750</td>\n",
       "      <td>1426996</td>\n",
       "      <td>66</td>\n",
       "      <td>102161</td>\n",
       "      <td>5459360</td>\n",
       "      <td>...</td>\n",
       "      <td>280693</td>\n",
       "      <td>406369.804072</td>\n",
       "      <td>1.075627e+08</td>\n",
       "      <td>4.446716</td>\n",
       "      <td>1177.008494</td>\n",
       "      <td>0.038885</td>\n",
       "      <td>10.292443</td>\n",
       "      <td>20.864479</td>\n",
       "      <td>0.024544</td>\n",
       "      <td>0.018460</td>\n",
       "    </tr>\n",
       "  </tbody>\n",
       "</table>\n",
       "<p>5 rows × 143 columns</p>\n",
       "</div>"
      ],
      "text/plain": [
       "            AdrActCnt  AdrBal1in100KCnt  AdrBal1in100MCnt  AdrBal1in10BCnt  \\\n",
       "time                                                                         \n",
       "2015-08-09     262571              9252            711943          2403998   \n",
       "2015-08-10     292834              9266            711729          2402893   \n",
       "2015-08-11     271613              9272            712733          2405978   \n",
       "2015-08-12     278802              9262            714517          2410983   \n",
       "2015-08-13     272849              9278            714951          2413080   \n",
       "\n",
       "            AdrBal1in10KCnt  AdrBal1in10MCnt  AdrBal1in1BCnt  AdrBal1in1KCnt  \\\n",
       "time                                                                           \n",
       "2015-08-09              887           294373         1422379              67   \n",
       "2015-08-10              888           294527         1421750              66   \n",
       "2015-08-11              885           294968         1424671              66   \n",
       "2015-08-12              882           295531         1426195              66   \n",
       "2015-08-13              885           295750         1426996              66   \n",
       "\n",
       "            AdrBal1in1MCnt  AdrBalCnt  ...  TxTfrCnt  TxTfrValAdjNtv  \\\n",
       "time                                   ...                             \n",
       "2015-08-09          101875    5438130  ...    276720   702282.628908   \n",
       "2015-08-10          102000    5437535  ...    304538   282564.753846   \n",
       "2015-08-11          102037    5441917  ...    280398   333270.418453   \n",
       "2015-08-12          102177    5453120  ...    293592   452620.208124   \n",
       "2015-08-13          102161    5459360  ...    280693   406369.804072   \n",
       "\n",
       "            TxTfrValAdjUSD  TxTfrValMeanNtv  TxTfrValMeanUSD  TxTfrValMedNtv  \\\n",
       "time                                                                           \n",
       "2015-08-09    1.870474e+08         4.201519      1119.041171        0.005625   \n",
       "2015-08-10    7.485955e+07         3.463212       917.504698        0.022000   \n",
       "2015-08-11    9.045684e+07         3.785274      1027.405708        0.049104   \n",
       "2015-08-12    1.213673e+08         4.168242      1117.688449        0.037566   \n",
       "2015-08-13    1.075627e+08         4.446716      1177.008494        0.038885   \n",
       "\n",
       "            TxTfrValMedUSD  VelCur1yr  VtyDayRet180d  VtyDayRet30d  \n",
       "time                                                                \n",
       "2015-08-09        1.498290  20.710122       0.025668      0.024495  \n",
       "2015-08-10        5.828434  20.755157       0.025667      0.023780  \n",
       "2015-08-11       13.327852  20.790885       0.025707      0.021451  \n",
       "2015-08-12       10.073023  20.825459       0.025332      0.018550  \n",
       "2015-08-13       10.292443  20.864479       0.024544      0.018460  \n",
       "\n",
       "[5 rows x 143 columns]"
      ]
     },
     "execution_count": 788,
     "metadata": {},
     "output_type": "execute_result"
    }
   ],
   "source": [
    "Bitcoin_df.head()"
   ]
  },
  {
   "cell_type": "code",
   "execution_count": 789,
   "id": "09ee5ac9-e07e-4605-bd35-ddf06ff18636",
   "metadata": {},
   "outputs": [
    {
     "data": {
      "text/plain": [
       "AdrActCnt           0\n",
       "AdrBal1in100KCnt    0\n",
       "AdrBal1in100MCnt    0\n",
       "AdrBal1in10BCnt     0\n",
       "AdrBal1in10KCnt     0\n",
       "                   ..\n",
       "TxTfrValMedNtv      0\n",
       "TxTfrValMedUSD      0\n",
       "VelCur1yr           0\n",
       "VtyDayRet180d       0\n",
       "VtyDayRet30d        0\n",
       "Length: 143, dtype: int64"
      ]
     },
     "execution_count": 789,
     "metadata": {},
     "output_type": "execute_result"
    }
   ],
   "source": [
    "Bitcoin_df.fillna({1:0.1}, inplace=True)\n",
    "Bitcoin_df = Bitcoin_df.fillna(\"0.1\")\n",
    "Bitcoin_df.isnull()\n",
    "Bitcoin_df.isna().sum()"
   ]
  },
  {
   "cell_type": "code",
   "execution_count": 790,
   "id": "56c5bc2c-e43c-471f-bce8-c36586e75ff7",
   "metadata": {
    "tags": []
   },
   "outputs": [
    {
     "data": {
      "image/png": "[encoded data removed]",
      "text/plain": [
       "<Figure size 432x288 with 4 Axes>"
      ]
     },
     "metadata": {
      "needs_background": "light"
     },
     "output_type": "display_data"
    }
   ],
   "source": [
    "decompose_result = seasonal_decompose(Bitcoin_df['PriceUSD'],model='multiplicative')\n",
    "decompose_result.plot();"
   ]
  },
  {
   "cell_type": "code",
   "execution_count": 802,
   "id": "301fa7f1-099c-45cc-88bc-e2f2e3c18eca",
   "metadata": {},
   "outputs": [
    {
     "data": {
      "text/plain": [
       "(486, 143)"
      ]
     },
     "execution_count": 802,
     "metadata": {},
     "output_type": "execute_result"
    }
   ],
   "source": [
    "X_train,X_test,y_train,y_test = train_test_split(Bitcoin_df,Bitcoin_df['PriceUSD'], test_size=0.2, random_state = 0)\n",
    "#np.asarray(df)\n",
    "#df.info()\n",
    "#X_train.shape, X_test.shape\n",
    "#type(X_test), type(X_train)\n",
    "X_test.shape"
   ]
  },
  {
   "cell_type": "code",
   "execution_count": 792,
   "id": "a8b244e8-b5fa-4eb4-931d-30f563b4587b",
   "metadata": {},
   "outputs": [
    {
     "name": "stderr",
     "output_type": "stream",
     "text": [
      "C:\\Users\\Adrian\\AppData\\Local\\Programs\\Python\\Python310\\lib\\site-packages\\statsmodels\\tsa\\base\\tsa_model.py:471: ValueWarning: No frequency information was provided, so inferred frequency D will be used.\n",
      "  self._init_dates(dates, freq)\n",
      "C:\\Users\\Adrian\\AppData\\Local\\Programs\\Python\\Python310\\lib\\site-packages\\statsmodels\\tsa\\holtwinters\\model.py:83: RuntimeWarning: overflow encountered in matmul\n",
      "  return err.T @ err\n",
      "C:\\Users\\Adrian\\AppData\\Local\\Programs\\Python\\Python310\\lib\\site-packages\\statsmodels\\tsa\\holtwinters\\model.py:915: ConvergenceWarning: Optimization failed to converge. Check mle_retvals.\n",
      "  warnings.warn(\n"
     ]
    },
    {
     "data": {
      "text/plain": [
       "Text(0.5, 1.0, 'Train, Test and Predicted Test using Holt Winters')"
      ]
     },
     "execution_count": 792,
     "metadata": {},
     "output_type": "execute_result"
    },
    {
     "data": {
      "image/png": "[encoded data removed]",
      "text/plain": [
       "<Figure size 360x432 with 1 Axes>"
      ]
     },
     "metadata": {
      "needs_background": "light"
     },
     "output_type": "display_data"
    }
   ],
   "source": [
    "fitted_model = ExponentialSmoothing(Bitcoin_df['PriceUSD'].astype(float),trend='mul',seasonal='mul',seasonal_periods=12).fit()\n",
    "test_predictions = fitted_model.forecast(50)\n",
    "X_train['PriceUSD'].plot(legend=True,label='TRAINx')\n",
    "y_train.plot(legend=True,label='TRAINy')\n",
    "X_test['PriceUSD'].plot(legend=True,label='TESTx',figsize=(5,6))\n",
    "y_test.plot(legend=True,label='TESTy',figsize=(5,6))\n",
    "test_predictions.plot(legend=True,label='PREDICTION')\n",
    "plt.title('Train, Test and Predicted Test using Holt Winters')\n",
    "\n",
    "#test_predictions.shape"
   ]
  },
  {
   "cell_type": "code",
   "execution_count": 793,
   "id": "2a1cddbb-d6e7-468e-8a4e-0354d08b8217",
   "metadata": {},
   "outputs": [],
   "source": [
    "#X_test.shape\n",
    "test_predictions.shape\n",
    "\n",
    "scaler = StandardScaler()\n",
    "\n",
    "test_predictions\n",
    "X_test = Bitcoin_df['PriceUSD']\n",
    "X_test.shape[0]\n",
    "X_test1 = X_test[-50:]\n",
    "X_test\n",
    "X_testx = X_test[-143:]"
   ]
  },
  {
   "cell_type": "code",
   "execution_count": 794,
   "id": "1ebaa94a-d1c3-40ca-9639-76f61c1d1c04",
   "metadata": {},
   "outputs": [
    {
     "name": "stdout",
     "output_type": "stream",
     "text": [
      "Mean Absolute Error = 8613.4704005764\n",
      "Mean Squared Error = 81029540.78872637\n"
     ]
    }
   ],
   "source": [
    "\n",
    "\n",
    "print(f'Mean Absolute Error = {mean_absolute_error(X_test1,test_predictions)}')\n",
    "print(f'Mean Squared Error = {mean_squared_error(X_test1,test_predictions)}')"
   ]
  },
  {
   "cell_type": "code",
   "execution_count": 795,
   "id": "c50f0e4e-9fe1-489c-bfaa-4189a918fbf6",
   "metadata": {},
   "outputs": [
    {
     "data": {
      "text/plain": [
       "50"
      ]
     },
     "execution_count": 795,
     "metadata": {},
     "output_type": "execute_result"
    }
   ],
   "source": [
    "test_predictions.shape[0]"
   ]
  },
  {
   "cell_type": "code",
   "execution_count": 796,
   "id": "d802567a-c0d1-4b47-b4b2-fadbe91f16c8",
   "metadata": {},
   "outputs": [
    {
     "data": {
      "text/plain": [
       "(2022-04-03    45763.708053\n",
       " 2022-04-04    46196.545897\n",
       " 2022-04-05    46731.957126\n",
       " 2022-04-06    46947.539899\n",
       " 2022-04-07    47066.806975\n",
       " 2022-04-08    47169.891462\n",
       " 2022-04-09    47136.903049\n",
       " 2022-04-10    47244.743194\n",
       " 2022-04-11    47389.397214\n",
       " 2022-04-12    47265.804755\n",
       " 2022-04-13    47854.831154\n",
       " 2022-04-14    47835.221711\n",
       " 2022-04-15    47639.229170\n",
       " 2022-04-16    48089.805886\n",
       " 2022-04-17    48647.159722\n",
       " 2022-04-18    48871.577662\n",
       " 2022-04-19    48995.732627\n",
       " 2022-04-20    49103.041797\n",
       " 2022-04-21    49068.701430\n",
       " 2022-04-22    49180.961156\n",
       " 2022-04-23    49331.543491\n",
       " 2022-04-24    49202.885878\n",
       " 2022-04-25    49816.052178\n",
       " 2022-04-26    49795.639087\n",
       " 2022-04-27    49591.614240\n",
       " 2022-04-28    50060.656814\n",
       " 2022-04-29    50640.852524\n",
       " 2022-04-30    50874.467722\n",
       " 2022-05-01    51003.710895\n",
       " 2022-05-02    51115.417885\n",
       " 2022-05-03    51079.670157\n",
       " 2022-05-04    51196.530592\n",
       " 2022-05-05    51353.284201\n",
       " 2022-05-06    51219.353848\n",
       " 2022-05-07    51857.649370\n",
       " 2022-05-08    51836.399695\n",
       " 2022-05-09    51624.013355\n",
       " 2022-05-10    52112.278568\n",
       " 2022-05-11    52716.252276\n",
       " 2022-05-12    52959.441659\n",
       " 2022-05-13    53093.981568\n",
       " 2022-05-14    53210.266615\n",
       " 2022-05-15    53173.053847\n",
       " 2022-05-16    53294.703541\n",
       " 2022-05-17    53457.881338\n",
       " 2022-05-18    53318.462156\n",
       " 2022-05-19    53982.916763\n",
       " 2022-05-20    53960.796219\n",
       " 2022-05-21    53739.705709\n",
       " 2022-05-22    54247.981358\n",
       " Freq: D, dtype: float64,\n",
       " time\n",
       " 2015-08-09      266.342020\n",
       " 2015-08-10      264.928825\n",
       " 2015-08-11      271.421736\n",
       " 2015-08-12      268.143868\n",
       " 2015-08-13      264.691628\n",
       "                   ...     \n",
       " 2022-03-29    47463.709677\n",
       " 2022-03-30    47123.297148\n",
       " 2022-03-31    45562.210667\n",
       " 2022-04-01    46250.336288\n",
       " 2022-04-02    45939.897349\n",
       " Name: PriceUSD, Length: 2429, dtype: float64)"
      ]
     },
     "execution_count": 796,
     "metadata": {},
     "output_type": "execute_result"
    }
   ],
   "source": [
    "test_predictions, X_test"
   ]
  },
  {
   "cell_type": "code",
   "execution_count": 797,
   "id": "c32ea336-3b1f-4340-a298-8a0f19da8583",
   "metadata": {},
   "outputs": [
    {
     "data": {
      "text/plain": [
       "(2429,)"
      ]
     },
     "execution_count": 797,
     "metadata": {},
     "output_type": "execute_result"
    }
   ],
   "source": [
    "X_test.shape\n"
   ]
  },
  {
   "cell_type": "code",
   "execution_count": 798,
   "id": "ec2e3783-cea1-44c8-8289-7d16d778bb76",
   "metadata": {},
   "outputs": [
    {
     "data": {
      "text/plain": [
       "17.11508631988495"
      ]
     },
     "execution_count": 798,
     "metadata": {},
     "output_type": "execute_result"
    }
   ],
   "source": [
    "\n",
    "import numpy as np\n",
    "\n",
    "def mean_absolute_percentage_error(X_test1, test_predictions): \n",
    "    X_test, test_predictions = np.array(X_test1), np.array(test_predictions)\n",
    "    return np.mean(np.abs((X_test1 - test_predictions) / test_predictions)) * 100\n",
    "mean_absolute_percentage_error(X_test1, test_predictions)"
   ]
  },
  {
   "cell_type": "code",
   "execution_count": 799,
   "id": "c56e92b1-50ff-4296-8295-10f4271edc49",
   "metadata": {},
   "outputs": [
    {
     "name": "stdout",
     "output_type": "stream",
     "text": [
      "(1, 2429)\n",
      "(50,)\n",
      "<class 'pandas.core.series.Series'>\n"
     ]
    }
   ],
   "source": [
    "X_test = X_test.values.reshape(1,-1)\n",
    "\n",
    "print(X_test.shape)\n",
    "print(test_predictions.shape)\n",
    "print(type(test_predictions))"
   ]
  },
  {
   "cell_type": "code",
   "execution_count": 800,
   "id": "305a8775-b6b3-4279-ac39-00b2675c05f8",
   "metadata": {},
   "outputs": [
    {
     "name": "stdout",
     "output_type": "stream",
     "text": [
      "(50,)\n"
     ]
    }
   ],
   "source": [
    "print(test_predictions.shape)"
   ]
  },
  {
   "cell_type": "code",
   "execution_count": 801,
   "id": "0b27692f-19b3-4ce3-a74c-2622bcde6817",
   "metadata": {},
   "outputs": [
    {
     "name": "stderr",
     "output_type": "stream",
     "text": [
      "C:\\Users\\Adrian\\AppData\\Local\\Programs\\Python\\Python310\\lib\\site-packages\\sklearn\\base.py:450: UserWarning: X does not have valid feature names, but StandardScaler was fitted with feature names\n",
      "  warnings.warn(\n"
     ]
    },
    {
     "ename": "ValueError",
     "evalue": "Found input variables with inconsistent numbers of samples: [1215, 1]",
     "output_type": "error",
     "traceback": [
      "\u001b[1;31m---------------------------------------------------------------------------\u001b[0m",
      "\u001b[1;31mValueError\u001b[0m                                Traceback (most recent call last)",
      "Input \u001b[1;32mIn [801]\u001b[0m, in \u001b[0;36m<cell line: 11>\u001b[1;34m()\u001b[0m\n\u001b[0;32m      7\u001b[0m pipeline \u001b[38;5;241m=\u001b[39m Pipeline([(\u001b[38;5;124m'\u001b[39m\u001b[38;5;124mscaler\u001b[39m\u001b[38;5;124m'\u001b[39m, StandardScaler()), (\u001b[38;5;124m'\u001b[39m\u001b[38;5;124msvc\u001b[39m\u001b[38;5;124m'\u001b[39m, SVC())])\n\u001b[0;32m      9\u001b[0m pipeline\u001b[38;5;241m.\u001b[39mfit(X_train\u001b[38;5;241m.\u001b[39mastype(\u001b[38;5;124m'\u001b[39m\u001b[38;5;124mint\u001b[39m\u001b[38;5;124m'\u001b[39m), y_train\u001b[38;5;241m.\u001b[39mastype(\u001b[38;5;124m'\u001b[39m\u001b[38;5;124mint\u001b[39m\u001b[38;5;124m'\u001b[39m))\n\u001b[1;32m---> 11\u001b[0m \u001b[43mpipeline\u001b[49m\u001b[38;5;241;43m.\u001b[39;49m\u001b[43mscore\u001b[49m\u001b[43m(\u001b[49m\u001b[43mX_testx\u001b[49m\u001b[38;5;241;43m.\u001b[39;49m\u001b[43mastype\u001b[49m\u001b[43m(\u001b[49m\u001b[38;5;124;43m'\u001b[39;49m\u001b[38;5;124;43mint\u001b[39;49m\u001b[38;5;124;43m'\u001b[39;49m\u001b[43m)\u001b[49m\u001b[43m,\u001b[49m\u001b[43m \u001b[49m\u001b[43my_test\u001b[49m\u001b[38;5;241;43m.\u001b[39;49m\u001b[43mastype\u001b[49m\u001b[43m(\u001b[49m\u001b[38;5;124;43m'\u001b[39;49m\u001b[38;5;124;43mint\u001b[39;49m\u001b[38;5;124;43m'\u001b[39;49m\u001b[43m)\u001b[49m\u001b[43m)\u001b[49m\n",
      "File \u001b[1;32m~\\AppData\\Local\\Programs\\Python\\Python310\\lib\\site-packages\\sklearn\\utils\\metaestimators.py:113\u001b[0m, in \u001b[0;36m_AvailableIfDescriptor.__get__.<locals>.<lambda>\u001b[1;34m(*args, **kwargs)\u001b[0m\n\u001b[0;32m    110\u001b[0m         \u001b[38;5;28;01mraise\u001b[39;00m attr_err\n\u001b[0;32m    112\u001b[0m     \u001b[38;5;66;03m# lambda, but not partial, allows help() to work with update_wrapper\u001b[39;00m\n\u001b[1;32m--> 113\u001b[0m     out \u001b[38;5;241m=\u001b[39m \u001b[38;5;28;01mlambda\u001b[39;00m \u001b[38;5;241m*\u001b[39margs, \u001b[38;5;241m*\u001b[39m\u001b[38;5;241m*\u001b[39mkwargs: \u001b[38;5;28mself\u001b[39m\u001b[38;5;241m.\u001b[39mfn(obj, \u001b[38;5;241m*\u001b[39margs, \u001b[38;5;241m*\u001b[39m\u001b[38;5;241m*\u001b[39mkwargs)  \u001b[38;5;66;03m# noqa\u001b[39;00m\n\u001b[0;32m    114\u001b[0m \u001b[38;5;28;01melse\u001b[39;00m:\n\u001b[0;32m    116\u001b[0m     \u001b[38;5;28;01mdef\u001b[39;00m \u001b[38;5;21mfn\u001b[39m(\u001b[38;5;241m*\u001b[39margs, \u001b[38;5;241m*\u001b[39m\u001b[38;5;241m*\u001b[39mkwargs):\n",
      "File \u001b[1;32m~\\AppData\\Local\\Programs\\Python\\Python310\\lib\\site-packages\\sklearn\\pipeline.py:711\u001b[0m, in \u001b[0;36mPipeline.score\u001b[1;34m(self, X, y, sample_weight)\u001b[0m\n\u001b[0;32m    709\u001b[0m \u001b[38;5;28;01mif\u001b[39;00m sample_weight \u001b[38;5;129;01mis\u001b[39;00m \u001b[38;5;129;01mnot\u001b[39;00m \u001b[38;5;28;01mNone\u001b[39;00m:\n\u001b[0;32m    710\u001b[0m     score_params[\u001b[38;5;124m\"\u001b[39m\u001b[38;5;124msample_weight\u001b[39m\u001b[38;5;124m\"\u001b[39m] \u001b[38;5;241m=\u001b[39m sample_weight\n\u001b[1;32m--> 711\u001b[0m \u001b[38;5;28;01mreturn\u001b[39;00m \u001b[38;5;28mself\u001b[39m\u001b[38;5;241m.\u001b[39msteps[\u001b[38;5;241m-\u001b[39m\u001b[38;5;241m1\u001b[39m][\u001b[38;5;241m1\u001b[39m]\u001b[38;5;241m.\u001b[39mscore(Xt, y, \u001b[38;5;241m*\u001b[39m\u001b[38;5;241m*\u001b[39mscore_params)\n",
      "File \u001b[1;32m~\\AppData\\Local\\Programs\\Python\\Python310\\lib\\site-packages\\sklearn\\base.py:651\u001b[0m, in \u001b[0;36mClassifierMixin.score\u001b[1;34m(self, X, y, sample_weight)\u001b[0m\n\u001b[0;32m    626\u001b[0m \u001b[38;5;124;03m\"\"\"\u001b[39;00m\n\u001b[0;32m    627\u001b[0m \u001b[38;5;124;03mReturn the mean accuracy on the given test data and labels.\u001b[39;00m\n\u001b[0;32m    628\u001b[0m \n\u001b[1;32m   (...)\u001b[0m\n\u001b[0;32m    647\u001b[0m \u001b[38;5;124;03m    Mean accuracy of ``self.predict(X)`` wrt. `y`.\u001b[39;00m\n\u001b[0;32m    648\u001b[0m \u001b[38;5;124;03m\"\"\"\u001b[39;00m\n\u001b[0;32m    649\u001b[0m \u001b[38;5;28;01mfrom\u001b[39;00m \u001b[38;5;21;01m.\u001b[39;00m\u001b[38;5;21;01mmetrics\u001b[39;00m \u001b[38;5;28;01mimport\u001b[39;00m accuracy_score\n\u001b[1;32m--> 651\u001b[0m \u001b[38;5;28;01mreturn\u001b[39;00m \u001b[43maccuracy_score\u001b[49m\u001b[43m(\u001b[49m\u001b[43my\u001b[49m\u001b[43m,\u001b[49m\u001b[43m \u001b[49m\u001b[38;5;28;43mself\u001b[39;49m\u001b[38;5;241;43m.\u001b[39;49m\u001b[43mpredict\u001b[49m\u001b[43m(\u001b[49m\u001b[43mX\u001b[49m\u001b[43m)\u001b[49m\u001b[43m,\u001b[49m\u001b[43m \u001b[49m\u001b[43msample_weight\u001b[49m\u001b[38;5;241;43m=\u001b[39;49m\u001b[43msample_weight\u001b[49m\u001b[43m)\u001b[49m\n",
      "File \u001b[1;32m~\\AppData\\Local\\Programs\\Python\\Python310\\lib\\site-packages\\sklearn\\metrics\\_classification.py:211\u001b[0m, in \u001b[0;36maccuracy_score\u001b[1;34m(y_true, y_pred, normalize, sample_weight)\u001b[0m\n\u001b[0;32m    145\u001b[0m \u001b[38;5;124;03m\"\"\"Accuracy classification score.\u001b[39;00m\n\u001b[0;32m    146\u001b[0m \n\u001b[0;32m    147\u001b[0m \u001b[38;5;124;03mIn multilabel classification, this function computes subset accuracy:\u001b[39;00m\n\u001b[1;32m   (...)\u001b[0m\n\u001b[0;32m    207\u001b[0m \u001b[38;5;124;03m0.5\u001b[39;00m\n\u001b[0;32m    208\u001b[0m \u001b[38;5;124;03m\"\"\"\u001b[39;00m\n\u001b[0;32m    210\u001b[0m \u001b[38;5;66;03m# Compute accuracy for each possible representation\u001b[39;00m\n\u001b[1;32m--> 211\u001b[0m y_type, y_true, y_pred \u001b[38;5;241m=\u001b[39m \u001b[43m_check_targets\u001b[49m\u001b[43m(\u001b[49m\u001b[43my_true\u001b[49m\u001b[43m,\u001b[49m\u001b[43m \u001b[49m\u001b[43my_pred\u001b[49m\u001b[43m)\u001b[49m\n\u001b[0;32m    212\u001b[0m check_consistent_length(y_true, y_pred, sample_weight)\n\u001b[0;32m    213\u001b[0m \u001b[38;5;28;01mif\u001b[39;00m y_type\u001b[38;5;241m.\u001b[39mstartswith(\u001b[38;5;124m\"\u001b[39m\u001b[38;5;124mmultilabel\u001b[39m\u001b[38;5;124m\"\u001b[39m):\n",
      "File \u001b[1;32m~\\AppData\\Local\\Programs\\Python\\Python310\\lib\\site-packages\\sklearn\\metrics\\_classification.py:84\u001b[0m, in \u001b[0;36m_check_targets\u001b[1;34m(y_true, y_pred)\u001b[0m\n\u001b[0;32m     57\u001b[0m \u001b[38;5;28;01mdef\u001b[39;00m \u001b[38;5;21m_check_targets\u001b[39m(y_true, y_pred):\n\u001b[0;32m     58\u001b[0m     \u001b[38;5;124;03m\"\"\"Check that y_true and y_pred belong to the same classification task.\u001b[39;00m\n\u001b[0;32m     59\u001b[0m \n\u001b[0;32m     60\u001b[0m \u001b[38;5;124;03m    This converts multiclass or binary types to a common shape, and raises a\u001b[39;00m\n\u001b[1;32m   (...)\u001b[0m\n\u001b[0;32m     82\u001b[0m \u001b[38;5;124;03m    y_pred : array or indicator matrix\u001b[39;00m\n\u001b[0;32m     83\u001b[0m \u001b[38;5;124;03m    \"\"\"\u001b[39;00m\n\u001b[1;32m---> 84\u001b[0m     \u001b[43mcheck_consistent_length\u001b[49m\u001b[43m(\u001b[49m\u001b[43my_true\u001b[49m\u001b[43m,\u001b[49m\u001b[43m \u001b[49m\u001b[43my_pred\u001b[49m\u001b[43m)\u001b[49m\n\u001b[0;32m     85\u001b[0m     type_true \u001b[38;5;241m=\u001b[39m type_of_target(y_true)\n\u001b[0;32m     86\u001b[0m     type_pred \u001b[38;5;241m=\u001b[39m type_of_target(y_pred)\n",
      "File \u001b[1;32m~\\AppData\\Local\\Programs\\Python\\Python310\\lib\\site-packages\\sklearn\\utils\\validation.py:332\u001b[0m, in \u001b[0;36mcheck_consistent_length\u001b[1;34m(*arrays)\u001b[0m\n\u001b[0;32m    330\u001b[0m uniques \u001b[38;5;241m=\u001b[39m np\u001b[38;5;241m.\u001b[39munique(lengths)\n\u001b[0;32m    331\u001b[0m \u001b[38;5;28;01mif\u001b[39;00m \u001b[38;5;28mlen\u001b[39m(uniques) \u001b[38;5;241m>\u001b[39m \u001b[38;5;241m1\u001b[39m:\n\u001b[1;32m--> 332\u001b[0m     \u001b[38;5;28;01mraise\u001b[39;00m \u001b[38;5;167;01mValueError\u001b[39;00m(\n\u001b[0;32m    333\u001b[0m         \u001b[38;5;124m\"\u001b[39m\u001b[38;5;124mFound input variables with inconsistent numbers of samples: \u001b[39m\u001b[38;5;132;01m%r\u001b[39;00m\u001b[38;5;124m\"\u001b[39m\n\u001b[0;32m    334\u001b[0m         \u001b[38;5;241m%\u001b[39m [\u001b[38;5;28mint\u001b[39m(l) \u001b[38;5;28;01mfor\u001b[39;00m l \u001b[38;5;129;01min\u001b[39;00m lengths]\n\u001b[0;32m    335\u001b[0m     )\n",
      "\u001b[1;31mValueError\u001b[0m: Found input variables with inconsistent numbers of samples: [1215, 1]"
     ]
    }
   ],
   "source": [
    "test_predictions = np.asarray(test_predictions)\n",
    "test_predictions = np.reshape(test_predictions, (1,50))\n",
    "test_predictions = test_predictions.flatten()\n",
    "\n",
    "X_testx = X_testx.values.reshape(1,-1)\n",
    "\n",
    "pipeline = Pipeline([('scaler', StandardScaler()), ('svc', SVC())])\n",
    "\n",
    "pipeline.fit(X_train.astype('int'), y_train.astype('int'))\n",
    "\n",
    "pipeline.score(X_testx.astype('int'), y_test.astype('int'))\n",
    "\n",
    "#print(X_test.shape)\n",
    "#print(test_predictions.shape)\n",
    "\n",
    "\n"
   ]
  },
  {
   "cell_type": "code",
   "execution_count": null,
   "id": "22c44bd7-6b1f-4fa8-8190-ca36c202c3c8",
   "metadata": {},
   "outputs": [],
   "source": [
    "#test_predictions = np.reshape(test_predictions, (50,1))\n",
    "print(type(test_predictions))\n",
    "test_predictions.shape"
   ]
  },
  {
   "cell_type": "code",
   "execution_count": null,
   "id": "7201e3ca-3b21-43f8-8c84-62195e093287",
   "metadata": {},
   "outputs": [],
   "source": [
    "print(type(test_predictions))\n",
    "print(type(X_test))"
   ]
  },
  {
   "cell_type": "code",
   "execution_count": null,
   "id": "05ca2c12-f09f-4763-9c31-380cbb36e640",
   "metadata": {},
   "outputs": [],
   "source": [
    "X_testx = X_testx.values.reshape(1,-1)"
   ]
  },
  {
   "cell_type": "code",
   "execution_count": 750,
   "id": "99e2e3b0-636d-406c-8c9a-5e4d95384e52",
   "metadata": {},
   "outputs": [
    {
     "data": {
      "text/plain": [
       "(1, 143)"
      ]
     },
     "execution_count": 750,
     "metadata": {},
     "output_type": "execute_result"
    }
   ],
   "source": [
    "X_testx.shape"
   ]
  },
  {
   "cell_type": "code",
   "execution_count": null,
   "id": "938120d1-93d3-4053-9dd3-e00e1cebfcdc",
   "metadata": {},
   "outputs": [],
   "source": [
    "test_predictions.flatten()"
   ]
  },
  {
   "cell_type": "code",
   "execution_count": 713,
   "id": "0d3bc304-d88c-4d75-80f4-7620c23ca41f",
   "metadata": {},
   "outputs": [
    {
     "data": {
      "text/plain": [
       "(1943, 143)"
      ]
     },
     "execution_count": 713,
     "metadata": {},
     "output_type": "execute_result"
    }
   ],
   "source": [
    "X_train.shape"
   ]
  },
  {
   "cell_type": "code",
   "execution_count": 751,
   "id": "8c8fcb5a-2eac-48ba-988e-0c21727dd017",
   "metadata": {},
   "outputs": [
    {
     "data": {
      "text/plain": [
       "(486,)"
      ]
     },
     "execution_count": 751,
     "metadata": {},
     "output_type": "execute_result"
    }
   ],
   "source": [
    "y_test.shape"
   ]
  },
  {
   "cell_type": "code",
   "execution_count": null,
   "id": "c7c6d64a-e611-49cd-9ed1-80a9dd724327",
   "metadata": {},
   "outputs": [],
   "source": []
  }
 ],
 "metadata": {
  "kernelspec": {
   "display_name": "Python 3 (ipykernel)",
   "language": "python",
   "name": "python3"
  },
  "language_info": {
   "codemirror_mode": {
    "name": "ipython",
    "version": 3
   },
   "file_extension": ".py",
   "mimetype": "text/x-python",
   "name": "python",
   "nbconvert_exporter": "python",
   "pygments_lexer": "ipython3",
   "version": "3.10.4"
  }
 },
 "nbformat": 4,
 "nbformat_minor": 5
}
